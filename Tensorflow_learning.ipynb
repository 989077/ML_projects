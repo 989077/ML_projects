{
 "cells": [
  {
   "cell_type": "code",
   "execution_count": 27,
   "id": "05eca588-ed22-44d1-a001-1b7d7decb4a9",
   "metadata": {},
   "outputs": [],
   "source": [
    "import tensorflow as tf\n",
    "import pathlib\n",
    "import os\n",
    "from datetime import datetime\n",
    "import matplotlib.pyplot as plt\n",
    "import pandas as pd\n",
    "import numpy as np\n"
   ]
  },
  {
   "cell_type": "code",
   "execution_count": 2,
   "id": "f9803c01-b521-4f3f-ad1a-7f2af743b12f",
   "metadata": {},
   "outputs": [
    {
     "name": "stdout",
     "output_type": "stream",
     "text": [
      "tf.Tensor(\n",
      "[[1 3 4]\n",
      " [5 7 8]], shape=(2, 3), dtype=int32)\n"
     ]
    }
   ],
   "source": [
    "x = tf.constant([[1,3,4],[5,7,8]])\n",
    "print(x)"
   ]
  },
  {
   "cell_type": "code",
   "execution_count": 3,
   "id": "69ef4e3c-5704-418a-b1d8-3a5dce628f5e",
   "metadata": {},
   "outputs": [
    {
     "data": {
      "text/plain": [
       "<tf.Tensor: shape=(2, 3), dtype=int32, numpy=\n",
       "array([[ 2,  6,  8],\n",
       "       [10, 14, 16]])>"
      ]
     },
     "execution_count": 3,
     "metadata": {},
     "output_type": "execute_result"
    }
   ],
   "source": [
    "x+x\n",
    "\n"
   ]
  },
  {
   "cell_type": "code",
   "execution_count": 4,
   "id": "2a7e625c-ed4c-4e92-afca-5adbfda8c74d",
   "metadata": {},
   "outputs": [
    {
     "data": {
      "text/plain": [
       "<tf.Tensor: shape=(2, 3), dtype=int32, numpy=\n",
       "array([[ 5, 15, 20],\n",
       "       [25, 35, 40]])>"
      ]
     },
     "execution_count": 4,
     "metadata": {},
     "output_type": "execute_result"
    }
   ],
   "source": [
    "5*x"
   ]
  },
  {
   "cell_type": "code",
   "execution_count": 5,
   "id": "db92280b-104b-4cfa-b383-25455995f291",
   "metadata": {},
   "outputs": [
    {
     "data": {
      "text/plain": [
       "<tf.Tensor: shape=(3, 2), dtype=int32, numpy=\n",
       "array([[1, 5],\n",
       "       [3, 7],\n",
       "       [4, 8]])>"
      ]
     },
     "execution_count": 5,
     "metadata": {},
     "output_type": "execute_result"
    }
   ],
   "source": [
    "tf.transpose(x)\n"
   ]
  },
  {
   "cell_type": "code",
   "execution_count": 6,
   "id": "17f65d79-11ad-4c77-97d8-512268b4eea9",
   "metadata": {},
   "outputs": [
    {
     "data": {
      "text/plain": [
       "<tf.Tensor: shape=(6, 3), dtype=int32, numpy=\n",
       "array([[1, 3, 4],\n",
       "       [5, 7, 8],\n",
       "       [1, 3, 4],\n",
       "       [5, 7, 8],\n",
       "       [1, 3, 4],\n",
       "       [5, 7, 8]])>"
      ]
     },
     "execution_count": 6,
     "metadata": {},
     "output_type": "execute_result"
    }
   ],
   "source": [
    "tf.concat([x,x,x],axis=0)"
   ]
  },
  {
   "cell_type": "code",
   "execution_count": 7,
   "id": "7c9e0de5-ad18-46b3-b077-b7acaed88760",
   "metadata": {},
   "outputs": [
    {
     "ename": "InvalidArgumentError",
     "evalue": "Value for attr 'T' of int32 is not in the list of allowed values: half, bfloat16, float, double\n\t; NodeDef: {{node Softmax}}; Op<name=Softmax; signature=logits:T -> softmax:T; attr=T:type,allowed=[DT_HALF, DT_BFLOAT16, DT_FLOAT, DT_DOUBLE]> [Op:Softmax] name: ",
     "output_type": "error",
     "traceback": [
      "\u001b[1;31m---------------------------------------------------------------------------\u001b[0m",
      "\u001b[1;31mInvalidArgumentError\u001b[0m                      Traceback (most recent call last)",
      "Cell \u001b[1;32mIn[7], line 1\u001b[0m\n\u001b[1;32m----> 1\u001b[0m tf\u001b[38;5;241m.\u001b[39mnn\u001b[38;5;241m.\u001b[39msoftmax(x, axis\u001b[38;5;241m=\u001b[39m\u001b[38;5;241m-\u001b[39m\u001b[38;5;241m1\u001b[39m)\n",
      "File \u001b[1;32m~\\anaconda3\\Lib\\site-packages\\tensorflow\\python\\util\\traceback_utils.py:153\u001b[0m, in \u001b[0;36mfilter_traceback.<locals>.error_handler\u001b[1;34m(*args, **kwargs)\u001b[0m\n\u001b[0;32m    151\u001b[0m \u001b[38;5;28;01mexcept\u001b[39;00m \u001b[38;5;167;01mException\u001b[39;00m \u001b[38;5;28;01mas\u001b[39;00m e:\n\u001b[0;32m    152\u001b[0m   filtered_tb \u001b[38;5;241m=\u001b[39m _process_traceback_frames(e\u001b[38;5;241m.\u001b[39m__traceback__)\n\u001b[1;32m--> 153\u001b[0m   \u001b[38;5;28;01mraise\u001b[39;00m e\u001b[38;5;241m.\u001b[39mwith_traceback(filtered_tb) \u001b[38;5;28;01mfrom\u001b[39;00m \u001b[38;5;28;01mNone\u001b[39;00m\n\u001b[0;32m    154\u001b[0m \u001b[38;5;28;01mfinally\u001b[39;00m:\n\u001b[0;32m    155\u001b[0m   \u001b[38;5;28;01mdel\u001b[39;00m filtered_tb\n",
      "File \u001b[1;32m~\\anaconda3\\Lib\\site-packages\\tensorflow\\python\\framework\\ops.py:5983\u001b[0m, in \u001b[0;36mraise_from_not_ok_status\u001b[1;34m(e, name)\u001b[0m\n\u001b[0;32m   5981\u001b[0m \u001b[38;5;28;01mdef\u001b[39;00m \u001b[38;5;21mraise_from_not_ok_status\u001b[39m(e, name) \u001b[38;5;241m-\u001b[39m\u001b[38;5;241m>\u001b[39m NoReturn:\n\u001b[0;32m   5982\u001b[0m   e\u001b[38;5;241m.\u001b[39mmessage \u001b[38;5;241m+\u001b[39m\u001b[38;5;241m=\u001b[39m (\u001b[38;5;124m\"\u001b[39m\u001b[38;5;124m name: \u001b[39m\u001b[38;5;124m\"\u001b[39m \u001b[38;5;241m+\u001b[39m \u001b[38;5;28mstr\u001b[39m(name \u001b[38;5;28;01mif\u001b[39;00m name \u001b[38;5;129;01mis\u001b[39;00m \u001b[38;5;129;01mnot\u001b[39;00m \u001b[38;5;28;01mNone\u001b[39;00m \u001b[38;5;28;01melse\u001b[39;00m \u001b[38;5;124m\"\u001b[39m\u001b[38;5;124m\"\u001b[39m))\n\u001b[1;32m-> 5983\u001b[0m   \u001b[38;5;28;01mraise\u001b[39;00m core\u001b[38;5;241m.\u001b[39m_status_to_exception(e) \u001b[38;5;28;01mfrom\u001b[39;00m \u001b[38;5;28;01mNone\u001b[39;00m\n",
      "\u001b[1;31mInvalidArgumentError\u001b[0m: Value for attr 'T' of int32 is not in the list of allowed values: half, bfloat16, float, double\n\t; NodeDef: {{node Softmax}}; Op<name=Softmax; signature=logits:T -> softmax:T; attr=T:type,allowed=[DT_HALF, DT_BFLOAT16, DT_FLOAT, DT_DOUBLE]> [Op:Softmax] name: "
     ]
    }
   ],
   "source": [
    "tf.nn.softmax(x, axis=-1)"
   ]
  },
  {
   "cell_type": "code",
   "execution_count": null,
   "id": "e5c97cd0-a150-4d4a-9121-4d774eaf320e",
   "metadata": {},
   "outputs": [],
   "source": [
    "tf.reduce_sum(x)"
   ]
  },
  {
   "cell_type": "code",
   "execution_count": null,
   "id": "59d62755-50a3-4ea6-a964-4afc9727c854",
   "metadata": {},
   "outputs": [],
   "source": [
    "tf.convert_to_tensor([1,2,3])"
   ]
  },
  {
   "cell_type": "code",
   "execution_count": null,
   "id": "828942a4-d462-4a00-ac27-4de698cb719b",
   "metadata": {},
   "outputs": [],
   "source": [
    "tf.reduce_sum([2,4,5])"
   ]
  },
  {
   "cell_type": "code",
   "execution_count": null,
   "id": "875b6ba3-1288-4fc5-9217-ea8fc3738895",
   "metadata": {},
   "outputs": [],
   "source": [
    "if tf.config.list_physical_devices('GPU'):\n",
    "  print(\"TensorFlow **IS** using the GPU\")\n",
    "else:\n",
    "  print(\"TensorFlow **IS NOT** using the GPU\")"
   ]
  },
  {
   "cell_type": "code",
   "execution_count": null,
   "id": "f5520aef-82c7-4e16-aacb-961652edbacd",
   "metadata": {},
   "outputs": [],
   "source": [
    "var = tf.Variable([2335,2335,25446])"
   ]
  },
  {
   "cell_type": "code",
   "execution_count": null,
   "id": "c3cc6f0c-6f8b-4b37-8323-21f449eeea62",
   "metadata": {},
   "outputs": [],
   "source": [
    "var.assign([3,5,6,])\n",
    "var"
   ]
  },
  {
   "cell_type": "code",
   "execution_count": null,
   "id": "9e2641a4-03f8-4e43-9692-66896e4895d8",
   "metadata": {},
   "outputs": [],
   "source": [
    "var.assign_add([4,6,3])"
   ]
  },
  {
   "cell_type": "code",
   "execution_count": null,
   "id": "239055f2-97e3-4d9f-9e2f-67d6b3c10c6e",
   "metadata": {},
   "outputs": [],
   "source": [
    "x = tf.Variable(1.0)\n",
    "def f(x):\n",
    "    y = x**2 + 2*x - 5\n",
    "    return y"
   ]
  },
  {
   "cell_type": "code",
   "execution_count": null,
   "id": "366efa46-fe85-424b-b22c-712f11ffe121",
   "metadata": {},
   "outputs": [],
   "source": [
    "x"
   ]
  },
  {
   "cell_type": "code",
   "execution_count": null,
   "id": "cf88ffa6-7167-4582-8ead-c57d18a00a24",
   "metadata": {},
   "outputs": [],
   "source": [
    "f(x)"
   ]
  },
  {
   "cell_type": "code",
   "execution_count": null,
   "id": "bf08b94b-5ce2-4f90-a0fe-99251d3bdc3a",
   "metadata": {},
   "outputs": [],
   "source": [
    "with tf.GradientTape() as tape:\n",
    "    y= f(x)\n",
    "g_x =tape.gradient(y,x)\n",
    "g_x"
   ]
  },
  {
   "cell_type": "code",
   "execution_count": null,
   "id": "feccceed-f2d2-4a88-9627-c95774582683",
   "metadata": {},
   "outputs": [],
   "source": [
    "# graphs and tf.function"
   ]
  },
  {
   "cell_type": "code",
   "execution_count": null,
   "id": "5572bfa6-662b-4189-a6b9-5d8e24afc39f",
   "metadata": {},
   "outputs": [],
   "source": [
    "tf.function\n",
    "def my_func(x):\n",
    "    print('Trancing.\\n')\n",
    "    return tf.reduce_sum(x)"
   ]
  },
  {
   "cell_type": "code",
   "execution_count": null,
   "id": "067ed7d2-d58c-4efd-873c-04134f4984a6",
   "metadata": {},
   "outputs": [],
   "source": [
    "x"
   ]
  },
  {
   "cell_type": "code",
   "execution_count": null,
   "id": "25e71f44-646d-43a3-9ba5-2315a982c088",
   "metadata": {},
   "outputs": [],
   "source": [
    "x = tf.constant([4,5,3])\n",
    "my_func(x)"
   ]
  },
  {
   "cell_type": "code",
   "execution_count": null,
   "id": "ad5ab953-e139-4947-84f1-10391336580a",
   "metadata": {},
   "outputs": [],
   "source": [
    "class Mymodule(tf.Module):\n",
    "    def __init__(self, value):\n",
    "        self.weight = tf.Variable(value)\n",
    "\n",
    "    @tf.function\n",
    "    def multiply(self,x):\n",
    "        return x *self.weight"
   ]
  },
  {
   "cell_type": "code",
   "execution_count": null,
   "id": "5308a4f5-6b92-415d-b1ae-283561744193",
   "metadata": {},
   "outputs": [],
   "source": [
    "mod = Mymodule(3)\n",
    "mod.multiply(tf.constant([1,3,4]))"
   ]
  },
  {
   "cell_type": "code",
   "execution_count": null,
   "id": "08ea644b-f824-4d16-866e-d304a9f93a7e",
   "metadata": {},
   "outputs": [],
   "source": [
    "# save the module"
   ]
  },
  {
   "cell_type": "code",
   "execution_count": null,
   "id": "a017301e-1eb3-4ec5-b230-7d431d82dd7a",
   "metadata": {},
   "outputs": [],
   "source": [
    "save_path ='./saved'\n",
    "tf.saved_model.save(mod, save_path)"
   ]
  },
  {
   "cell_type": "code",
   "execution_count": null,
   "id": "589532d6-9a93-44b6-b7af-7f2b794ba48d",
   "metadata": {},
   "outputs": [],
   "source": [
    "reloaded = tf.saved_model.load(save_path)\n",
    "reloaded.multiply(tf.constant([2,4,5]))"
   ]
  },
  {
   "cell_type": "code",
   "execution_count": 44,
   "id": "d24502bf-ecf5-4f18-af7d-14b2b3034117",
   "metadata": {},
   "outputs": [
    {
     "data": {
      "text/plain": [
       "<tf.Tensor: shape=(), dtype=float32, numpy=25.0>"
      ]
     },
     "execution_count": 44,
     "metadata": {},
     "output_type": "execute_result"
    }
   ],
   "source": [
    "class Simplemodule(tf.Module):\n",
    "    def __init___(self, name = None):\n",
    "        super().__init__(name=name)\n",
    "        self.a_variable = tf.Variable(4.0, name =\"train_me\")\n",
    "        self.non_trainable_variable =tf.Variable(4, trainable= False , name=\"do_not_train_me\")\n",
    "    def __call__(self, x):\n",
    "        return self.a_variable * x+self.non_trainable_variable\n",
    "\n",
    "simple_module = SimpleModule(name=\"simple\")\n",
    "\n",
    "simple_module(tf.constant(4.0))\n",
    " "
   ]
  },
  {
   "cell_type": "code",
   "execution_count": 46,
   "id": "09fa5e54-0688-4e4f-bddf-e14ee711da34",
   "metadata": {},
   "outputs": [
    {
     "name": "stdout",
     "output_type": "stream",
     "text": [
      "trainable variables: (<tf.Variable 'train_me:0' shape=() dtype=float32, numpy=5.0>,)\n",
      "all variables: (<tf.Variable 'train_me:0' shape=() dtype=float32, numpy=5.0>, <tf.Variable 'do_not_train_me:0' shape=() dtype=float32, numpy=5.0>)\n"
     ]
    }
   ],
   "source": [
    "# All trainable variables\n",
    "print(\"trainable variables:\", simple_module.trainable_variables)\n",
    "# Every variable\n",
    "print(\"all variables:\", simple_module.variables)"
   ]
  },
  {
   "cell_type": "code",
   "execution_count": null,
   "id": "11f4bb9f-5184-4fde-9fc3-3ad36c99c482",
   "metadata": {},
   "outputs": [],
   "source": []
  }
 ],
 "metadata": {
  "kernelspec": {
   "display_name": "Python 3 (ipykernel)",
   "language": "python",
   "name": "python3"
  },
  "language_info": {
   "codemirror_mode": {
    "name": "ipython",
    "version": 3
   },
   "file_extension": ".py",
   "mimetype": "text/x-python",
   "name": "python",
   "nbconvert_exporter": "python",
   "pygments_lexer": "ipython3",
   "version": "3.12.4"
  }
 },
 "nbformat": 4,
 "nbformat_minor": 5
}
