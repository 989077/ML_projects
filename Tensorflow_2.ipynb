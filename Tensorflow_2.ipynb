{
 "cells": [
  {
   "cell_type": "code",
   "execution_count": 1,
   "id": "44ef3fcd-af22-4e98-ab09-c7b2e3c26cd8",
   "metadata": {},
   "outputs": [],
   "source": [
    "import tensorflow as tf \n",
    "import keras\n",
    "from datetime import datetime\n"
   ]
  },
  {
   "cell_type": "raw",
   "id": "1faee8fc-d84a-41cd-a223-0b9e62574f40",
   "metadata": {},
   "source": [
    "tensorflow modules\n",
    "Building modules"
   ]
  },
  {
   "cell_type": "code",
   "execution_count": 38,
   "id": "2ffd830d-fcf8-4f0a-977f-056967bbf44b",
   "metadata": {},
   "outputs": [
    {
     "data": {
      "text/plain": [
       "<tf.Tensor: shape=(), dtype=float32, numpy=30.0>"
      ]
     },
     "execution_count": 38,
     "metadata": {},
     "output_type": "execute_result"
    }
   ],
   "source": [
    "class SimpleModule(tf.Module):\n",
    "    def __init__ (self, name=None):\n",
    "        super().__init__(name=name)\n",
    "        self.a_variable = tf.Variable(5.0, name='train_me')\n",
    "        self.non_trainable_variable=tf.Variable(5.0, trainable=False , name= \"do_not_train\")\n",
    "    def __call__(self, x):\n",
    "        return self.a_variable * x + self.non_trainable_variable\n",
    "\n",
    "simple_module = SimpleModule(name=\"simple\")\n",
    "simple_module(tf.constant(5.0))\n"
   ]
  },
  {
   "cell_type": "markdown",
   "id": "dd093cb0-199f-43d1-8c2b-36e15d2e70a1",
   "metadata": {},
   "source": [
    "# Saving weight"
   ]
  },
  {
   "cell_type": "code",
   "execution_count": 49,
   "id": "5b0892d5-53a3-45e2-b0ab-c5d2d69017be",
   "metadata": {},
   "outputs": [
    {
     "ename": "NameError",
     "evalue": "name 'chkp_path' is not defined",
     "output_type": "error",
     "traceback": [
      "\u001b[1;31m---------------------------------------------------------------------------\u001b[0m",
      "\u001b[1;31mNameError\u001b[0m                                 Traceback (most recent call last)",
      "Cell \u001b[1;32mIn[49], line 3\u001b[0m\n\u001b[0;32m      1\u001b[0m chKp_path \u001b[38;5;241m=\u001b[39m \u001b[38;5;124m\"\u001b[39m\u001b[38;5;124mmy_checkpoint\u001b[39m\u001b[38;5;124m\"\u001b[39m\n\u001b[0;32m      2\u001b[0m checkpoint \u001b[38;5;241m=\u001b[39m tf\u001b[38;5;241m.\u001b[39mtrain\u001b[38;5;241m.\u001b[39mCheckpoint(model\u001b[38;5;241m=\u001b[39msimple_module)\n\u001b[1;32m----> 3\u001b[0m checkpoint\u001b[38;5;241m.\u001b[39mwrite(chkp_path)\n",
      "\u001b[1;31mNameError\u001b[0m: name 'chkp_path' is not defined"
     ]
    }
   ],
   "source": [
    "chKp_path = \"my_checkpoint\"\n",
    "checkpoint = tf.train.Checkpoint(model=simple_module)\n",
    "checkpoint.write(chkp_path)\n"
   ]
  },
  {
   "cell_type": "markdown",
   "id": "5fd3c352-6d95-4bbf-a5a7-74f17d6ab571",
   "metadata": {},
   "source": [
    "# saving function\n",
    "# @tf.function"
   ]
  },
  {
   "cell_type": "code",
   "execution_count": 108,
   "id": "0daab5cd-43aa-4ee7-9b86-547988e94cc9",
   "metadata": {},
   "outputs": [
    {
     "ename": "NameError",
     "evalue": "name 'Dense' is not defined",
     "output_type": "error",
     "traceback": [
      "\u001b[1;31m---------------------------------------------------------------------------\u001b[0m",
      "\u001b[1;31mNameError\u001b[0m                                 Traceback (most recent call last)",
      "Cell \u001b[1;32mIn[108], line 14\u001b[0m\n\u001b[0;32m     11\u001b[0m          \u001b[38;5;28;01mreturn\u001b[39;00m \u001b[38;5;28mself\u001b[39m\u001b[38;5;241m.\u001b[39mdense_2(x)\n\u001b[0;32m     13\u001b[0m \u001b[38;5;66;03m# model with a gragh\u001b[39;00m\n\u001b[1;32m---> 14\u001b[0m my_model \u001b[38;5;241m=\u001b[39m  MySequentiolModule(name\u001b[38;5;241m=\u001b[39m\u001b[38;5;124m\"\u001b[39m\u001b[38;5;124mthe_model\u001b[39m\u001b[38;5;124m\"\u001b[39m)\n",
      "Cell \u001b[1;32mIn[108], line 5\u001b[0m, in \u001b[0;36mMySequentiolModule.__init__\u001b[1;34m(self, name)\u001b[0m\n\u001b[0;32m      2\u001b[0m \u001b[38;5;28;01mdef\u001b[39;00m \u001b[38;5;21m__init__\u001b[39m(\u001b[38;5;28mself\u001b[39m, name\u001b[38;5;241m=\u001b[39m\u001b[38;5;28;01mNone\u001b[39;00m):\n\u001b[0;32m      3\u001b[0m     \u001b[38;5;28msuper\u001b[39m()\u001b[38;5;241m.\u001b[39m\u001b[38;5;21m__init__\u001b[39m(name\u001b[38;5;241m=\u001b[39mname)\n\u001b[1;32m----> 5\u001b[0m     \u001b[38;5;28mself\u001b[39m\u001b[38;5;241m.\u001b[39mdense_1 \u001b[38;5;241m=\u001b[39m Dense(in_feature\u001b[38;5;241m=\u001b[39m\u001b[38;5;241m3\u001b[39m, out_feature\u001b[38;5;241m=\u001b[39m\u001b[38;5;241m3\u001b[39m)\n\u001b[0;32m      6\u001b[0m     \u001b[38;5;28mself\u001b[39m\u001b[38;5;241m.\u001b[39mdense_2 \u001b[38;5;241m=\u001b[39m Dense(in_feature\u001b[38;5;241m=\u001b[39m\u001b[38;5;241m4\u001b[39m, out_feature\u001b[38;5;241m=\u001b[39m\u001b[38;5;241m6\u001b[39m)\n",
      "\u001b[1;31mNameError\u001b[0m: name 'Dense' is not defined"
     ]
    }
   ],
   "source": [
    "class MySequentiolModule(tf.Module):\n",
    "    def __init__(self, name=None):\n",
    "        super().__init__(name=name)\n",
    "        \n",
    "        self.dense_1 = Dense(in_feature=3, out_feature=3)\n",
    "        self.dense_2 = Dense(in_feature=4, out_feature=6)\n",
    "    \n",
    "    @tf.function\n",
    "    def __call__(self,x):\n",
    "         x= self.dense_1(x)\n",
    "         return self.dense_2(x)\n",
    "\n",
    "# model with a gragh\n",
    "my_model =  MySequentiolModule(name=\"the_model\")\n"
   ]
  },
  {
   "cell_type": "markdown",
   "id": "a7841736-8404-4cd7-948d-325b0d5858a1",
   "metadata": {},
   "source": [
    "# visualize the graph by tracing it within a tensorflow summary\n"
   ]
  },
  {
   "cell_type": "code",
   "execution_count": 115,
   "id": "246b6b7f-916c-4e42-acb4-662380b0b2e4",
   "metadata": {},
   "outputs": [
    {
     "ename": "NameError",
     "evalue": "name 'MySequentialModule' is not defined",
     "output_type": "error",
     "traceback": [
      "\u001b[1;31m---------------------------------------------------------------------------\u001b[0m",
      "\u001b[1;31mNameError\u001b[0m                                 Traceback (most recent call last)",
      "Cell \u001b[1;32mIn[115], line 5\u001b[0m\n\u001b[0;32m      2\u001b[0m stamp \u001b[38;5;241m=\u001b[39m datetime\u001b[38;5;241m.\u001b[39mnow()\u001b[38;5;241m.\u001b[39mstrftime(\u001b[38;5;124m\"\u001b[39m\u001b[38;5;124m%\u001b[39m\u001b[38;5;124mY\u001b[39m\u001b[38;5;124m%\u001b[39m\u001b[38;5;124mm\u001b[39m\u001b[38;5;132;01m%d\u001b[39;00m\u001b[38;5;124m-\u001b[39m\u001b[38;5;124m%\u001b[39m\u001b[38;5;124mH\u001b[39m\u001b[38;5;124m%\u001b[39m\u001b[38;5;124mM\u001b[39m\u001b[38;5;124m%\u001b[39m\u001b[38;5;124mS\u001b[39m\u001b[38;5;124m\"\u001b[39m)\n\u001b[0;32m      3\u001b[0m logdir \u001b[38;5;241m=\u001b[39m \u001b[38;5;124m\"\u001b[39m\u001b[38;5;124mlogs/func/\u001b[39m\u001b[38;5;132;01m%s\u001b[39;00m\u001b[38;5;124m\"\u001b[39m \u001b[38;5;241m%\u001b[39m stamp\n\u001b[1;32m----> 5\u001b[0m new_model \u001b[38;5;241m=\u001b[39m MySequentialModule()\n\u001b[0;32m      7\u001b[0m tf\u001b[38;5;241m.\u001b[39msummary\u001b[38;5;241m.\u001b[39mtrace_on(graph\u001b[38;5;241m=\u001b[39m\u001b[38;5;28;01mTrue\u001b[39;00m)\n\u001b[0;32m      8\u001b[0m tf\u001b[38;5;241m.\u001b[39mprofiler\u001b[38;5;241m.\u001b[39mexperimental\u001b[38;5;241m.\u001b[39mstart(logdir)\n",
      "\u001b[1;31mNameError\u001b[0m: name 'MySequentialModule' is not defined"
     ]
    }
   ],
   "source": [
    "# set up logging\n",
    "stamp = datetime.now().strftime(\"%Y%m%d-%H%M%S\")\n",
    "logdir = \"logs/func/%s\" % stamp\n",
    "\n",
    "new_model = MySequentialModule()\n",
    "\n",
    "tf.summary.trace_on(graph=True)\n",
    "tf.profiler.experimental.start(logdir)\n",
    "\n",
    "z= print(new_model(tf.constant([3,5,5])))\n",
    "with writer. as_default():\n",
    "    tf.summary.trace_export(\n",
    "    name=\"my_func_trace\",\n",
    "    step=0,\n",
    "    profiler_out=logdir)\n"
   ]
  },
  {
   "cell_type": "code",
   "execution_count": 5,
   "id": "bdc68554-d3e2-4cbb-89be-ecaf7f5a1189",
   "metadata": {},
   "outputs": [
    {
     "ename": "NameError",
     "evalue": "name 'tf' is not defined",
     "output_type": "error",
     "traceback": [
      "\u001b[1;31m---------------------------------------------------------------------------\u001b[0m",
      "\u001b[1;31mNameError\u001b[0m                                 Traceback (most recent call last)",
      "Cell \u001b[1;32mIn[5], line 1\u001b[0m\n\u001b[1;32m----> 1\u001b[0m new_model \u001b[38;5;241m=\u001b[39m tf\u001b[38;5;241m.\u001b[39msaved_model\u001b[38;5;241m.\u001b[39mload(\u001b[38;5;124m\"\u001b[39m\u001b[38;5;124mthe_saved_model\u001b[39m\u001b[38;5;124m\"\u001b[39m)\n",
      "\u001b[1;31mNameError\u001b[0m: name 'tf' is not defined"
     ]
    }
   ],
   "source": [
    "new_model = tf.saved_model.load(\"the_saved_model\")"
   ]
  },
  {
   "cell_type": "markdown",
   "id": "9731d04d-1daa-4cde-8dcf-18306a2c656d",
   "metadata": {},
   "source": [
    "# keras models and layers"
   ]
  },
  {
   "cell_type": "code",
   "execution_count": 75,
   "id": "645a75ee-70f5-4226-92ed-d8561119e8cb",
   "metadata": {},
   "outputs": [],
   "source": [
    "import tensorflow as tf\n"
   ]
  },
  {
   "cell_type": "code",
   "execution_count": 37,
   "id": "38532473-5372-4d84-8d57-fc54152a74d0",
   "metadata": {},
   "outputs": [],
   "source": [
    "class MyDense(tf.keras.layers.Layer):\n",
    "    def __init__(self, in_feature,out_features,**kwargs):\n",
    "        super().__init__(**kwargs)\n",
    "        # this will soon move to the step;see below\n",
    "        self.w = tf.Variable(\n",
    "            tf.random.normal([in_feature, out_features]), name='w')\n",
    "        self.b = tf.Variable(tf.zeros([out_features]), name='b')\n",
    "    def call (self, x):\n",
    "        y = tf.matmul(x, self.w)+self.b\n",
    "        return tf.nn.relu(y)\n",
    "simple_layer = MyDense(name=\"simple\",in_feature=3, out_features=3)\n",
    "\n",
    "\n",
    "\n",
    "        "
   ]
  },
  {
   "cell_type": "code",
   "execution_count": 41,
   "id": "e722a0c5-70fa-4d75-8739-6de72b343c10",
   "metadata": {},
   "outputs": [
    {
     "data": {
      "text/plain": [
       "<property at 0x252fba8b9c0>"
      ]
     },
     "execution_count": 41,
     "metadata": {},
     "output_type": "execute_result"
    }
   ],
   "source": [
    "MyDense.variables"
   ]
  },
  {
   "cell_type": "code",
   "execution_count": 43,
   "id": "15ae6bf4-4c67-4f2c-998d-5aeaed606ade",
   "metadata": {},
   "outputs": [],
   "source": [
    "# calling function allocates appropriately-size variable"
   ]
  },
  {
   "cell_type": "code",
   "execution_count": 55,
   "id": "356a01c5-f48a-49c0-b4ae-1a33baa53d51",
   "metadata": {},
   "outputs": [
    {
     "name": "stdout",
     "output_type": "stream",
     "text": [
      "model results: tf.Tensor(\n",
      "[[0. 0. 0.]\n",
      " [0. 0. 0.]], shape=(2, 3), dtype=float32)\n"
     ]
    }
   ],
   "source": [
    "print(\"model results:\",simple_layer(tf.constant([[2.0,2.0,2.0],[3.0,3.0,3.0]])))"
   ]
  },
  {
   "cell_type": "markdown",
   "id": "55b883b9-bef3-4621-99df-415d93d2c174",
   "metadata": {},
   "source": [
    "# keras models"
   ]
  },
  {
   "cell_type": "code",
   "execution_count": 105,
   "id": "060fbf22-5ba9-4262-bd14-625e843d3f46",
   "metadata": {},
   "outputs": [],
   "source": [
    "class FlexibleDense(tf.keras.layers.Layer):\n",
    "  # Note the added `**kwargs`, as Keras supports many arguments\n",
    "  def __init__(self, out_features, **kwargs):\n",
    "    super().__init__(**kwargs)\n",
    "    self.out_features = out_features\n",
    "\n",
    "  def build(self, input_shape):  # Create the state of the layer (weights)\n",
    "    self.w = tf.Variable(\n",
    "      tf.random.normal([input_shape[-1], self.out_features]), name='w')\n",
    "    self.b = tf.Variable(tf.zeros([self.out_features]), name='b')\n",
    "\n",
    "  def call(self, inputs):  # Defines the computation from inputs to outputs\n",
    "    return tf.matmul(inputs, self.w) + self.b\n",
    "\n",
    "# Create the instance of the layer\n",
    "flexible_dense = FlexibleDense(out_features=3)"
   ]
  },
  {
   "cell_type": "code",
   "execution_count": 117,
   "id": "769e5209-148d-472d-863a-9db9562e1400",
   "metadata": {},
   "outputs": [
    {
     "name": "stdout",
     "output_type": "stream",
     "text": [
      "model results: tf.Tensor(\n",
      "[[-2.3619466  5.9696527  3.4632452]\n",
      " [-3.5429196  8.954478   5.194868 ]], shape=(2, 3), dtype=float32)\n"
     ]
    }
   ],
   "source": [
    "# calling the allocates appropriately-sized variable:\n",
    "print(\"model results:\" ,flexible_dense(tf.constant([[2.0,2.0,2.0,],[3,3,3,]])))"
   ]
  },
  {
   "cell_type": "code",
   "execution_count": null,
   "id": "6db4f78c-bbcf-4ab7-b524-5f9c6843e4c0",
   "metadata": {},
   "outputs": [],
   "source": []
  },
  {
   "cell_type": "code",
   "execution_count": 129,
   "id": "1731a132-651b-4758-9c42-7c0eb518fb49",
   "metadata": {},
   "outputs": [
    {
     "name": "stdout",
     "output_type": "stream",
     "text": [
      "model results: tf.Tensor([[-2.3619466  5.9696527  3.4632452]], shape=(1, 3), dtype=float32)\n"
     ]
    }
   ],
   "source": [
    "# calling the allocates appropriately-sized variable:\n",
    "print(\"model results:\" ,flexible_dense(tf.constant([[2.0,2.0,2.0]])))"
   ]
  },
  {
   "cell_type": "code",
   "execution_count": 121,
   "id": "aad50c37-500d-4838-be9c-cf305015d6a9",
   "metadata": {},
   "outputs": [
    {
     "data": {
      "text/plain": [
       "[]"
      ]
     },
     "execution_count": 121,
     "metadata": {},
     "output_type": "execute_result"
    }
   ],
   "source": [
    "flexible_dense.variables"
   ]
  },
  {
   "cell_type": "code",
   "execution_count": 103,
   "id": "fe14303b-27fa-49eb-90f5-292be789cdac",
   "metadata": {},
   "outputs": [
    {
     "ename": "TypeError",
     "evalue": "'function' object is not subscriptable",
     "output_type": "error",
     "traceback": [
      "\u001b[1;31m---------------------------------------------------------------------------\u001b[0m",
      "\u001b[1;31mTypeError\u001b[0m                                 Traceback (most recent call last)",
      "Cell \u001b[1;32mIn[103], line 2\u001b[0m\n\u001b[0;32m      1\u001b[0m \u001b[38;5;28;01mtry\u001b[39;00m :\n\u001b[1;32m----> 2\u001b[0m     \u001b[38;5;28mprint\u001b[39m(\u001b[38;5;124m\"\u001b[39m\u001b[38;5;124mModel results:\u001b[39m\u001b[38;5;124m\"\u001b[39m,flexible_dense(tf\u001b[38;5;241m.\u001b[39mconstant[[\u001b[38;5;241m2\u001b[39m,\u001b[38;5;241m2\u001b[39m,\u001b[38;5;241m2\u001b[39m,\u001b[38;5;241m2\u001b[39m]]))\n\u001b[0;32m      3\u001b[0m \u001b[38;5;28;01mexcept\u001b[39;00m tf\u001b[38;5;241m.\u001b[39merrors\u001b[38;5;241m.\u001b[39mInvalidArgumentError \u001b[38;5;28;01mas\u001b[39;00m e:\n\u001b[0;32m      4\u001b[0m     \u001b[38;5;28mprint\u001b[39m(\u001b[38;5;124m\"\u001b[39m\u001b[38;5;124mFaild:\u001b[39m\u001b[38;5;124m\"\u001b[39m,e)\n",
      "\u001b[1;31mTypeError\u001b[0m: 'function' object is not subscriptable"
     ]
    }
   ],
   "source": [
    "try :\n",
    "    print(\"Model results:\",flexible_dense(tf.constant[[2,2,2,2]]))\n",
    "except tf.errors.InvalidArgumentError as e:\n",
    "    print(\"Faild:\",e)"
   ]
  },
  {
   "cell_type": "code",
   "execution_count": null,
   "id": "320d2e13-c408-47a0-94af-73610596809a",
   "metadata": {},
   "outputs": [],
   "source": []
  },
  {
   "cell_type": "code",
   "execution_count": 99,
   "id": "9ed9e633-391e-4413-811e-9bb8f53922e0",
   "metadata": {},
   "outputs": [],
   "source": [
    "@keras.saving.register_keras_serializable()\n",
    "class MySequentialModel(tf.keras.Model):\n",
    "    def __init__(self, name=None, **kwargs):\n",
    "        super().__init__(**kwargs)\n",
    "        self.dense_1 = FlexibleDense(out_features=3)\n",
    "        self.dense_2 = FlexibleDense(out_features=2)\n",
    "    def call(self, x):\n",
    "        x = self.dense_1(x)\n",
    "        return self.dense_2(x)\n",
    "\n",
    "my_sequential_model = MySequentialModel(\"the_model\")\n",
    "\n",
    "        "
   ]
  },
  {
   "cell_type": "code",
   "execution_count": 131,
   "id": "57719d32-b29a-4b70-a21c-c117bc7f3a44",
   "metadata": {},
   "outputs": [
    {
     "ename": "AttributeError",
     "evalue": "'MySequentialModel' object has no attribute 'submodules'",
     "output_type": "error",
     "traceback": [
      "\u001b[1;31m---------------------------------------------------------------------------\u001b[0m",
      "\u001b[1;31mAttributeError\u001b[0m                            Traceback (most recent call last)",
      "Cell \u001b[1;32mIn[131], line 1\u001b[0m\n\u001b[1;32m----> 1\u001b[0m my_sequential_model\u001b[38;5;241m.\u001b[39msubmodules\n",
      "\u001b[1;31mAttributeError\u001b[0m: 'MySequentialModel' object has no attribute 'submodules'"
     ]
    }
   ],
   "source": [
    "my_sequential_model.submodules"
   ]
  },
  {
   "cell_type": "code",
   "execution_count": 139,
   "id": "7e5c829a-c472-4272-b08c-a674141430c1",
   "metadata": {},
   "outputs": [
    {
     "data": {
      "text/html": [
       "<pre style=\"white-space:pre;overflow-x:auto;line-height:normal;font-family:Menlo,'DejaVu Sans Mono',consolas,'Courier New',monospace\"><span style=\"font-weight: bold\">Model: \"functional\"</span>\n",
       "</pre>\n"
      ],
      "text/plain": [
       "\u001b[1mModel: \"functional\"\u001b[0m\n"
      ]
     },
     "metadata": {},
     "output_type": "display_data"
    },
    {
     "data": {
      "text/html": [
       "<pre style=\"white-space:pre;overflow-x:auto;line-height:normal;font-family:Menlo,'DejaVu Sans Mono',consolas,'Courier New',monospace\">┏━━━━━━━━━━━━━━━━━━━━━━━━━━━━━━━━━┳━━━━━━━━━━━━━━━━━━━━━━━━┳━━━━━━━━━━━━━━━┓\n",
       "┃<span style=\"font-weight: bold\"> Layer (type)                    </span>┃<span style=\"font-weight: bold\"> Output Shape           </span>┃<span style=\"font-weight: bold\">       Param # </span>┃\n",
       "┡━━━━━━━━━━━━━━━━━━━━━━━━━━━━━━━━━╇━━━━━━━━━━━━━━━━━━━━━━━━╇━━━━━━━━━━━━━━━┩\n",
       "│ input_layer_3 (<span style=\"color: #0087ff; text-decoration-color: #0087ff\">InputLayer</span>)      │ (<span style=\"color: #00d7ff; text-decoration-color: #00d7ff\">None</span>, <span style=\"color: #00af00; text-decoration-color: #00af00\">3</span>)              │             <span style=\"color: #00af00; text-decoration-color: #00af00\">0</span> │\n",
       "├─────────────────────────────────┼────────────────────────┼───────────────┤\n",
       "│ flexible_dense_7                │ (<span style=\"color: #00d7ff; text-decoration-color: #00d7ff\">None</span>, <span style=\"color: #00af00; text-decoration-color: #00af00\">3</span>)              │             <span style=\"color: #00af00; text-decoration-color: #00af00\">0</span> │\n",
       "│ (<span style=\"color: #0087ff; text-decoration-color: #0087ff\">FlexibleDense</span>)                 │                        │               │\n",
       "├─────────────────────────────────┼────────────────────────┼───────────────┤\n",
       "│ flexible_dense_8                │ (<span style=\"color: #00d7ff; text-decoration-color: #00d7ff\">None</span>, <span style=\"color: #00af00; text-decoration-color: #00af00\">3</span>)              │             <span style=\"color: #00af00; text-decoration-color: #00af00\">0</span> │\n",
       "│ (<span style=\"color: #0087ff; text-decoration-color: #0087ff\">FlexibleDense</span>)                 │                        │               │\n",
       "└─────────────────────────────────┴────────────────────────┴───────────────┘\n",
       "</pre>\n"
      ],
      "text/plain": [
       "┏━━━━━━━━━━━━━━━━━━━━━━━━━━━━━━━━━┳━━━━━━━━━━━━━━━━━━━━━━━━┳━━━━━━━━━━━━━━━┓\n",
       "┃\u001b[1m \u001b[0m\u001b[1mLayer (type)                   \u001b[0m\u001b[1m \u001b[0m┃\u001b[1m \u001b[0m\u001b[1mOutput Shape          \u001b[0m\u001b[1m \u001b[0m┃\u001b[1m \u001b[0m\u001b[1m      Param #\u001b[0m\u001b[1m \u001b[0m┃\n",
       "┡━━━━━━━━━━━━━━━━━━━━━━━━━━━━━━━━━╇━━━━━━━━━━━━━━━━━━━━━━━━╇━━━━━━━━━━━━━━━┩\n",
       "│ input_layer_3 (\u001b[38;5;33mInputLayer\u001b[0m)      │ (\u001b[38;5;45mNone\u001b[0m, \u001b[38;5;34m3\u001b[0m)              │             \u001b[38;5;34m0\u001b[0m │\n",
       "├─────────────────────────────────┼────────────────────────┼───────────────┤\n",
       "│ flexible_dense_7                │ (\u001b[38;5;45mNone\u001b[0m, \u001b[38;5;34m3\u001b[0m)              │             \u001b[38;5;34m0\u001b[0m │\n",
       "│ (\u001b[38;5;33mFlexibleDense\u001b[0m)                 │                        │               │\n",
       "├─────────────────────────────────┼────────────────────────┼───────────────┤\n",
       "│ flexible_dense_8                │ (\u001b[38;5;45mNone\u001b[0m, \u001b[38;5;34m3\u001b[0m)              │             \u001b[38;5;34m0\u001b[0m │\n",
       "│ (\u001b[38;5;33mFlexibleDense\u001b[0m)                 │                        │               │\n",
       "└─────────────────────────────────┴────────────────────────┴───────────────┘\n"
      ]
     },
     "metadata": {},
     "output_type": "display_data"
    },
    {
     "data": {
      "text/html": [
       "<pre style=\"white-space:pre;overflow-x:auto;line-height:normal;font-family:Menlo,'DejaVu Sans Mono',consolas,'Courier New',monospace\"><span style=\"font-weight: bold\"> Total params: </span><span style=\"color: #00af00; text-decoration-color: #00af00\">0</span> (0.00 B)\n",
       "</pre>\n"
      ],
      "text/plain": [
       "\u001b[1m Total params: \u001b[0m\u001b[38;5;34m0\u001b[0m (0.00 B)\n"
      ]
     },
     "metadata": {},
     "output_type": "display_data"
    },
    {
     "data": {
      "text/html": [
       "<pre style=\"white-space:pre;overflow-x:auto;line-height:normal;font-family:Menlo,'DejaVu Sans Mono',consolas,'Courier New',monospace\"><span style=\"font-weight: bold\"> Trainable params: </span><span style=\"color: #00af00; text-decoration-color: #00af00\">0</span> (0.00 B)\n",
       "</pre>\n"
      ],
      "text/plain": [
       "\u001b[1m Trainable params: \u001b[0m\u001b[38;5;34m0\u001b[0m (0.00 B)\n"
      ]
     },
     "metadata": {},
     "output_type": "display_data"
    },
    {
     "data": {
      "text/html": [
       "<pre style=\"white-space:pre;overflow-x:auto;line-height:normal;font-family:Menlo,'DejaVu Sans Mono',consolas,'Courier New',monospace\"><span style=\"font-weight: bold\"> Non-trainable params: </span><span style=\"color: #00af00; text-decoration-color: #00af00\">0</span> (0.00 B)\n",
       "</pre>\n"
      ],
      "text/plain": [
       "\u001b[1m Non-trainable params: \u001b[0m\u001b[38;5;34m0\u001b[0m (0.00 B)\n"
      ]
     },
     "metadata": {},
     "output_type": "display_data"
    }
   ],
   "source": [
    "inputs = tf.keras.Input(shape=[3,])\n",
    "\n",
    "x = FlexibleDense(3)(inputs)\n",
    "x = FlexibleDense(3)(x)\n",
    "\n",
    "my_functional_model  =tf.keras.Model(inputs =inputs, outputs=x)\n",
    "\n",
    "my_functional_model.summary()"
   ]
  },
  {
   "cell_type": "code",
   "execution_count": null,
   "id": "c50db74b-9bcc-4862-ab05-a53267ff9931",
   "metadata": {},
   "outputs": [],
   "source": []
  }
 ],
 "metadata": {
  "kernelspec": {
   "display_name": "Python 3 (ipykernel)",
   "language": "python",
   "name": "python3"
  },
  "language_info": {
   "codemirror_mode": {
    "name": "ipython",
    "version": 3
   },
   "file_extension": ".py",
   "mimetype": "text/x-python",
   "name": "python",
   "nbconvert_exporter": "python",
   "pygments_lexer": "ipython3",
   "version": "3.12.4"
  }
 },
 "nbformat": 4,
 "nbformat_minor": 5
}
